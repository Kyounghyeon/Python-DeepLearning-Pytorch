{
 "cells": [
  {
   "cell_type": "markdown",
   "metadata": {
    "id": "i1MxJp0kk13G"
   },
   "source": [
    "# Create multi layer perceptron model with MNIST data\n"
   ]
  },
  {
   "cell_type": "code",
   "execution_count": 1,
   "metadata": {
    "colab": {
     "base_uri": "https://localhost:8080/"
    },
    "id": "lCOjnGYGk4PR",
    "outputId": "36df9c9d-15de-44a8-c4a2-c9771b68af2b"
   },
   "outputs": [
    {
     "ename": "ModuleNotFoundError",
     "evalue": "No module named 'google.colab'",
     "output_type": "error",
     "traceback": [
      "\u001b[1;31m---------------------------------------------------------------------------\u001b[0m",
      "\u001b[1;31mModuleNotFoundError\u001b[0m                       Traceback (most recent call last)",
      "\u001b[1;32m<ipython-input-1-91874b305a32>\u001b[0m in \u001b[0;36m<module>\u001b[1;34m\u001b[0m\n\u001b[1;32m----> 1\u001b[1;33m \u001b[1;32mfrom\u001b[0m \u001b[0mgoogle\u001b[0m\u001b[1;33m.\u001b[0m\u001b[0mcolab\u001b[0m \u001b[1;32mimport\u001b[0m \u001b[0mdrive\u001b[0m\u001b[1;33m\u001b[0m\u001b[1;33m\u001b[0m\u001b[0m\n\u001b[0m\u001b[0;32m      2\u001b[0m \u001b[0mdrive\u001b[0m\u001b[1;33m.\u001b[0m\u001b[0mmount\u001b[0m\u001b[1;33m(\u001b[0m\u001b[1;34m'/content/drive/'\u001b[0m\u001b[1;33m)\u001b[0m\u001b[1;33m\u001b[0m\u001b[1;33m\u001b[0m\u001b[0m\n",
      "\u001b[1;31mModuleNotFoundError\u001b[0m: No module named 'google.colab'"
     ]
    }
   ],
   "source": [
    "from google.colab import drive\n",
    "drive.mount('/content/drive/')"
   ]
  },
  {
   "cell_type": "code",
   "execution_count": 2,
   "metadata": {
    "colab": {
     "base_uri": "https://localhost:8080/"
    },
    "id": "7tlfRNvBlYPk",
    "outputId": "39a2aefb-a62f-4ba9-9e3c-d19d102d0779"
   },
   "outputs": [
    {
     "name": "stdout",
     "output_type": "stream",
     "text": [
      "[WinError 3] 지정된 경로를 찾을 수 없습니다: '/content/drive/MyDrive/colab/'\n",
      "C:\\Users\\whoe9\\Desktop\\jupyternotebook\\Pytorch\n"
     ]
    }
   ],
   "source": [
    "cd /content/drive/MyDrive/colab/"
   ]
  },
  {
   "cell_type": "markdown",
   "metadata": {
    "id": "8X9ldR2YnJiw"
   },
   "source": [
    "## 1. Module Import"
   ]
  },
  {
   "cell_type": "code",
   "execution_count": 1,
   "metadata": {
    "id": "pmtadBZDk13I"
   },
   "outputs": [],
   "source": [
    "\n",
    "import numpy as np\n",
    "import matplotlib.pyplot as plt\n",
    "import torch\n",
    "import torch.nn as nn # neural network를 만들 때 필요한 함수를 모아놓은 모듈\n",
    "import torch.nn.functional as F # torch.nn 중에서도 자주 사용되는 함수\n",
    "from torchvision import transforms, datasets # CV분야에서 자주 사용되는 torchvision "
   ]
  },
  {
   "cell_type": "markdown",
   "metadata": {
    "id": "ySQX7tH_nS5H"
   },
   "source": [
    "## 2. Check version"
   ]
  },
  {
   "cell_type": "code",
   "execution_count": 2,
   "metadata": {
    "id": "M-mfABYWk13I"
   },
   "outputs": [],
   "source": [
    "\n",
    "if torch.cuda.is_available():\n",
    "    DEVICE = torch.device('cuda')\n",
    "else:\n",
    "    DEVICE = torch.device('cpu')"
   ]
  },
  {
   "cell_type": "code",
   "execution_count": 3,
   "metadata": {
    "colab": {
     "base_uri": "https://localhost:8080/"
    },
    "id": "Hc1HTWz5mAhW",
    "outputId": "f8d68704-bfcc-413a-9ec9-583ea6f1aff7"
   },
   "outputs": [
    {
     "data": {
      "text/plain": [
       "device(type='cpu')"
      ]
     },
     "execution_count": 3,
     "metadata": {},
     "output_type": "execute_result"
    }
   ],
   "source": [
    "DEVICE"
   ]
  },
  {
   "cell_type": "code",
   "execution_count": 4,
   "metadata": {
    "colab": {
     "base_uri": "https://localhost:8080/",
     "height": 35
    },
    "id": "9ISRUeSQmB-G",
    "outputId": "7ef011a6-26e3-4cfc-edae-47ee8a5b723d"
   },
   "outputs": [
    {
     "data": {
      "text/plain": [
       "'1.9.0'"
      ]
     },
     "execution_count": 4,
     "metadata": {},
     "output_type": "execute_result"
    }
   ],
   "source": [
    "torch.__version__"
   ]
  },
  {
   "cell_type": "code",
   "execution_count": 34,
   "metadata": {
    "id": "NQjqtFLEmIXW"
   },
   "outputs": [],
   "source": [
    "batch_size = 32\n",
    "epoch = 10"
   ]
  },
  {
   "cell_type": "code",
   "execution_count": 6,
   "metadata": {},
   "outputs": [
    {
     "data": {
      "text/plain": [
       "'C:\\\\Users\\\\whoe9\\\\Desktop\\\\jupyternotebook\\\\Pytorch'"
      ]
     },
     "execution_count": 6,
     "metadata": {},
     "output_type": "execute_result"
    }
   ],
   "source": [
    "pwd"
   ]
  },
  {
   "cell_type": "markdown",
   "metadata": {
    "id": "MfWpQTOYnYDz"
   },
   "source": [
    "## 3. MNIST 데이터 다운로드(train, test 분리)"
   ]
  },
  {
   "cell_type": "markdown",
   "metadata": {
    "id": "sMLNREE7n2S7"
   },
   "source": [
    "`datasets.MNIST`를 이용해서 데이터를 불러올 수 있고, 이미지 형태이기 때문에 `transforms.ToTensor` 옵션을 사용해 텐서형태로 불러옴. 다만 MLP 모델은 input data의 값이 커질수록 불안정해지므로 정규화를 0\\~255 사이의 텐서값을 0~1 범위로 정규화하여 불러움"
   ]
  },
  {
   "cell_type": "code",
   "execution_count": 9,
   "metadata": {
    "id": "sxmOmLBvmbv9"
   },
   "outputs": [],
   "source": [
    "train_dataset = datasets.MNIST(root = \"../data/MNIST\",\n",
    "                               train = True,\n",
    "                               download = True,\n",
    "                               transform = transforms.ToTensor())\n",
    "test_dataset = datasets.MNIST(root = \"../data/MNIST\",\n",
    "                               train = False,\n",
    "                               download = True,\n",
    "                               transform = transforms.ToTensor())"
   ]
  },
  {
   "cell_type": "code",
   "execution_count": 11,
   "metadata": {},
   "outputs": [
    {
     "data": {
      "text/plain": [
       "Dataset MNIST\n",
       "    Number of datapoints: 60000\n",
       "    Root location: ../data/MNIST\n",
       "    Split: Train\n",
       "    StandardTransform\n",
       "Transform: ToTensor()"
      ]
     },
     "execution_count": 11,
     "metadata": {},
     "output_type": "execute_result"
    }
   ],
   "source": [
    "train_dataset"
   ]
  },
  {
   "cell_type": "markdown",
   "metadata": {
    "id": "BnI00di9n159"
   },
   "source": [
    "위에서 다운로드한 MNIST 데이터셋을 미니 배치 단위로 분리해서 지정. 이미지 데이터를 배치 사이즈 단위로 미니 배치를 구성하게 됨.  \n",
    "즉, 미니 배치 1개 = 배치 사이즈 32"
   ]
  },
  {
   "cell_type": "code",
   "execution_count": 12,
   "metadata": {
    "id": "-9G1naSPn1bY"
   },
   "outputs": [],
   "source": [
    "train_loader = torch.utils.data.DataLoader(dataset = train_dataset,\n",
    "                                           batch_size = batch_size,\n",
    "                                           shuffle = True)\n",
    "test_loader = torch.utils.data.DataLoader(dataset = test_dataset,\n",
    "                                           batch_size = batch_size,\n",
    "                                           shuffle = True)"
   ]
  },
  {
   "cell_type": "markdown",
   "metadata": {},
   "source": [
    "**미니 배치**  \n",
    "총 60,000개의 손글씨 사진들을 전부 비교하기에는 시공간적으로 효율적이지 못함.  \n",
    "때문에 미니배치라는 전체 데이터의 일부만을 학습에 이용하는 방법.    \n",
    "- 1 epoch : 32개 학습 -> 가중치 업데이트 -> 그다음 32개 학습 -> ... -> 총 60,000/32  = 1,875번 학습"
   ]
  },
  {
   "cell_type": "markdown",
   "metadata": {
    "id": "zrabRMfPnotd"
   },
   "source": [
    "## 4. 데이터 확인하기 (1)"
   ]
  },
  {
   "cell_type": "code",
   "execution_count": 17,
   "metadata": {
    "colab": {
     "base_uri": "https://localhost:8080/"
    },
    "id": "DiWbyLyZpOGW",
    "outputId": "aae0dd72-2a4f-4dd7-d78e-91aee8093ae5"
   },
   "outputs": [
    {
     "name": "stdout",
     "output_type": "stream",
     "text": [
      "X_train:  torch.Size([32, 1, 28, 28]) type:  torch.FloatTensor\n",
      "y_train:  torch.Size([32]) type:  torch.LongTensor\n"
     ]
    }
   ],
   "source": [
    "for (X_train, y_train) in train_loader:\n",
    "    print('X_train: ', X_train.size(), 'type: ', X_train.type())\n",
    "    print('y_train: ', y_train.size(), 'type: ', y_train.type())\n",
    "    break"
   ]
  },
  {
   "cell_type": "markdown",
   "metadata": {
    "id": "ExfymiCFqOxm"
   },
   "source": [
    "출력 결과 해석  \n",
    "- 32개의 이미지 데이터가 1개의 미니 배치를 구성\n",
    "- 가로 28, 세로 28 픽셀\n",
    "- 채널 1 -> Gray Scale (흑백)\n",
    "- type 도 추가로 확인할 수 있음"
   ]
  },
  {
   "cell_type": "markdown",
   "metadata": {
    "id": "cDyZgDjkqjMN"
   },
   "source": [
    "## 5. 데이터 확인하기 (2)"
   ]
  },
  {
   "cell_type": "code",
   "execution_count": 20,
   "metadata": {
    "colab": {
     "base_uri": "https://localhost:8080/",
     "height": 94
    },
    "id": "Y_YZtm_CqkcL",
    "outputId": "e6a37e26-debb-49b1-fae8-d2b662e90ce2"
   },
   "outputs": [
    {
     "data": {
      "image/png": "[encoded data removed]",
      "text/plain": [
       "<Figure size 720x72 with 10 Axes>"
      ]
     },
     "metadata": {
      "needs_background": "light"
     },
     "output_type": "display_data"
    }
   ],
   "source": [
    "pltsize = 1\n",
    "plt.figure(figsize = (10 * pltsize, pltsize))\n",
    "for i in range(10):\n",
    "    plt.subplot(1, 10, i+1)\n",
    "    plt.axis('off')\n",
    "    plt.imshow(X_train[i, :, :, :].numpy().reshape(28,28), cmap = \"gray_r\")\n",
    "    plt.title(\"Class: \" + str(y_train[i].item()))"
   ]
  },
  {
   "cell_type": "markdown",
   "metadata": {
    "id": "hWmNPhkJqphX"
   },
   "source": [
    "## 6. MLP 모델링"
   ]
  },
  {
   "cell_type": "markdown",
   "metadata": {},
   "source": [
    "- `nn.Linear` : affine 변환을 담당하는 layer "
   ]
  },
  {
   "cell_type": "code",
   "execution_count": 22,
   "metadata": {
    "id": "xG-_C-ecsRuE"
   },
   "outputs": [],
   "source": [
    "class Net(nn.Module): # nn.Module method 상속 -> nn.Module 내의 함수를 Net class 안에서 이용가능함\n",
    "    \n",
    "    # 초기화\n",
    "    def __init__(self):\n",
    "        super(Net, self).__init__()\n",
    "        # Fully Connected Layer\n",
    "        self.fc1 = nn.Linear(28 * 28, 512) # 처음 input layer의 노드수 = 가로*세로*채널수 \n",
    "        self.fc2 = nn.Linear(512, 256) \n",
    "        self.fc3 = nn.Linear(256, 10) # Output : 0~9까지의 이미지 label -> 10개 // Loss를 계산하기 위해서 개수 똑같이 맞춰야 함\n",
    "    \n",
    "    # 순전파\n",
    "    def forward(self, x):\n",
    "        x = x.view(-1, 28*28) # MLP 모델은 1차원 데이터를 입력 받음. 기존 데이터는 (28, 28)의 2차원 데이터이므로 view를 이용하여 28*28개의 1차원 데이터로 변환\n",
    "        x = self.fc1(x)\n",
    "        x = F.sigmoid(x)\n",
    "        x = self.fc2(x)\n",
    "        x = F.sigmoid(x)\n",
    "        x = self.fc3(x)\n",
    "        x = F.log_softmax(x, dim = 1)\n",
    "        return x\n",
    "\n",
    "model = Net().to(DEVICE)"
   ]
  },
  {
   "cell_type": "code",
   "execution_count": 28,
   "metadata": {},
   "outputs": [
    {
     "name": "stdout",
     "output_type": "stream",
     "text": [
      "Net(\n",
      "  (fc1): Linear(in_features=784, out_features=512, bias=True)\n",
      "  (fc2): Linear(in_features=512, out_features=256, bias=True)\n",
      "  (fc3): Linear(in_features=256, out_features=10, bias=True)\n",
      ")\n"
     ]
    }
   ],
   "source": [
    "print(model)"
   ]
  },
  {
   "cell_type": "markdown",
   "metadata": {},
   "source": [
    "**파라미터 확인**"
   ]
  },
  {
   "cell_type": "code",
   "execution_count": 25,
   "metadata": {
    "scrolled": false
   },
   "outputs": [
    {
     "name": "stdout",
     "output_type": "stream",
     "text": [
      "name:fc1.weight\n",
      "<class 'torch.nn.parameter.Parameter'>\n",
      "param.shape:torch.Size([512, 784])\n",
      "param.requries_grad:True\n",
      "=====\n",
      "name:fc1.bias\n",
      "<class 'torch.nn.parameter.Parameter'>\n",
      "param.shape:torch.Size([512])\n",
      "param.requries_grad:True\n",
      "=====\n",
      "name:fc2.weight\n",
      "<class 'torch.nn.parameter.Parameter'>\n",
      "param.shape:torch.Size([256, 512])\n",
      "param.requries_grad:True\n",
      "=====\n",
      "name:fc2.bias\n",
      "<class 'torch.nn.parameter.Parameter'>\n",
      "param.shape:torch.Size([256])\n",
      "param.requries_grad:True\n",
      "=====\n",
      "name:fc3.weight\n",
      "<class 'torch.nn.parameter.Parameter'>\n",
      "param.shape:torch.Size([10, 256])\n",
      "param.requries_grad:True\n",
      "=====\n",
      "name:fc3.bias\n",
      "<class 'torch.nn.parameter.Parameter'>\n",
      "param.shape:torch.Size([10])\n",
      "param.requries_grad:True\n",
      "=====\n"
     ]
    }
   ],
   "source": [
    "for name, param in model.named_parameters():\n",
    "    print(f'name:{name}') \n",
    "    print(type(param)) \n",
    "    print(f'param.shape:{param.shape}')\n",
    "    print(f'param.requries_grad:{param.requires_grad}')\n",
    "    print('=====')"
   ]
  },
  {
   "cell_type": "markdown",
   "metadata": {
    "id": "2JsKmoMdvPeE"
   },
   "source": [
    "## 7. 옵티마이저, 손실함수 설정"
   ]
  },
  {
   "cell_type": "code",
   "execution_count": 29,
   "metadata": {
    "id": "o8M4mR6lwA98"
   },
   "outputs": [],
   "source": [
    "optimizer = torch.optim.SGD(model.parameters(), lr = 0.01, momentum = 0.5) # stochastic gradient descent \n",
    "criterion = nn.CrossEntropyLoss() # 손실함수 : CrossEntropy"
   ]
  },
  {
   "cell_type": "markdown",
   "metadata": {
    "id": "t5DmilMfwgE5"
   },
   "source": [
    "[Cross Entropy Loss function](https://pytorch.org/docs/stable/generated/torch.nn.CrossEntropyLoss.html) in Pytorch"
   ]
  },
  {
   "cell_type": "markdown",
   "metadata": {
    "id": "0Tvv0VWevaDj"
   },
   "source": [
    "## 8. train 데이터에 대한 모델 성능 확인하는 함수 정의"
   ]
  },
  {
   "cell_type": "code",
   "execution_count": 44,
   "metadata": {
    "id": "uGwHInvAwkvk"
   },
   "outputs": [],
   "source": [
    "def train(model, train_loader, optimizer, log_interval):\n",
    "    model.train() # 정의한 모델을 학습 상태로 지정\n",
    "    for batch_idx,(image, label) in enumerate(train_loader): \n",
    "        image = image.to(DEVICE) # 사용할 이미지(인풋)와 레이블을 GPU 또는 CPU에 할당\n",
    "        label = label.to(DEVICE) # true y값\n",
    "        optimizer.zero_grad() # 그래디언트 초기화\n",
    "        output = model(image) # prediction 값, train_loader부터 입력된 이미지 데이터를 input에 넣어 MLP 모델을 돌리고 결과를 output에 저장\n",
    "        loss = criterion(output, label) # Loss 함수로 평가\n",
    "        loss.backward() # loss함수를 최소화하도록 계산된 그래디언트로 역전파\n",
    "        optimizer.step() # 파라미터 값 업데이트, 다음 에포크 실행\n",
    "\n",
    "        if batch_idx % log_interval == 0:\n",
    "            print(\"Train Epoch {} [ {}/{} ({:.0f}%) ] /t Train Loss: {:.6f}\".format(ep, \n",
    "                                                                                batch_idx * len(image),\n",
    "                                                                                len(train_loader.dataset), \n",
    "                                                                                100. * batch_idx / len(train_loader),\n",
    "                                                                                loss.item()))"
   ]
  },
  {
   "cell_type": "markdown",
   "metadata": {},
   "source": [
    "## 9. test 데이터에 대한 모델 성능 확인하는 함수 정의"
   ]
  },
  {
   "cell_type": "code",
   "execution_count": 38,
   "metadata": {},
   "outputs": [],
   "source": [
    "def evaluate(model, test_loader):\n",
    "    model.eval() # 평가 모드\n",
    "    test_loss = 0\n",
    "    correct = 0\n",
    "    \n",
    "    with torch.no_grad():\n",
    "        for image, label in test_loader:\n",
    "            image = image.to(DEVICE)\n",
    "            label = label.to(DEVICE)\n",
    "            output = model(image)\n",
    "            test_loss += criterion(output, label).item()\n",
    "            prediction = output.max(1, keepdim = True)[1] #output은 크기가 10이며, input에 대한 각각 label의 예측 확률값 벡터값임. 확률이 가장 높은(max) label로 분류하는 것임.\n",
    "            correct += prediction.eq(label.view_as(prediction)).sum().item() # 실제와 예측값이 맞으면 correct에 +1\n",
    "\n",
    "    test_loss /= len(test_loader.dataset) # 전체 loss를 미니배치 총 개수만큼 나눔 (1875개)\n",
    "    test_accuracy = 100. * correct / len(test_loader.dataset)\n",
    "    return test_loss, test_accuracy"
   ]
  },
  {
   "cell_type": "code",
   "execution_count": 39,
   "metadata": {},
   "outputs": [],
   "source": [
    "import datetime as dt"
   ]
  },
  {
   "cell_type": "code",
   "execution_count": 43,
   "metadata": {},
   "outputs": [
    {
     "name": "stdout",
     "output_type": "stream",
     "text": [
      "Train Epoch 1 [ 0/60000 0%) ] /t Train Loss: 2.373925\n",
      "Train Epoch 1 [ 6400/60000 11%) ] /t Train Loss: 2.279435\n",
      "Train Epoch 1 [ 12800/60000 21%) ] /t Train Loss: 2.307403\n",
      "Train Epoch 1 [ 19200/60000 32%) ] /t Train Loss: 2.303364\n",
      "Train Epoch 1 [ 25600/60000 43%) ] /t Train Loss: 2.317318\n",
      "Train Epoch 1 [ 32000/60000 53%) ] /t Train Loss: 2.295982\n",
      "Train Epoch 1 [ 38400/60000 64%) ] /t Train Loss: 2.268548\n",
      "Train Epoch 1 [ 44800/60000 75%) ] /t Train Loss: 2.309198\n",
      "Train Epoch 1 [ 51200/60000 85%) ] /t Train Loss: 2.283495\n",
      "Train Epoch 1 [ 57600/60000 96%) ] /t Train Loss: 2.284096\n",
      "\\[EPOCH: 1], \t Test Loss : 0.0694, \t Test Accuracy : 27.04 \n",
      "\n",
      "Train Epoch 2 [ 0/60000 0%) ] /t Train Loss: 2.228342\n",
      "Train Epoch 2 [ 6400/60000 11%) ] /t Train Loss: 2.207078\n",
      "Train Epoch 2 [ 12800/60000 21%) ] /t Train Loss: 2.155443\n",
      "Train Epoch 2 [ 19200/60000 32%) ] /t Train Loss: 2.083037\n",
      "Train Epoch 2 [ 25600/60000 43%) ] /t Train Loss: 1.994179\n",
      "Train Epoch 2 [ 32000/60000 53%) ] /t Train Loss: 1.631279\n",
      "Train Epoch 2 [ 38400/60000 64%) ] /t Train Loss: 1.595850\n",
      "Train Epoch 2 [ 44800/60000 75%) ] /t Train Loss: 1.611427\n",
      "Train Epoch 2 [ 51200/60000 85%) ] /t Train Loss: 1.262537\n",
      "Train Epoch 2 [ 57600/60000 96%) ] /t Train Loss: 1.329333\n",
      "\\[EPOCH: 2], \t Test Loss : 0.0368, \t Test Accuracy : 67.02 \n",
      "\n",
      "Train Epoch 3 [ 0/60000 0%) ] /t Train Loss: 1.182994\n",
      "Train Epoch 3 [ 6400/60000 11%) ] /t Train Loss: 1.041083\n",
      "Train Epoch 3 [ 12800/60000 21%) ] /t Train Loss: 0.999324\n",
      "Train Epoch 3 [ 19200/60000 32%) ] /t Train Loss: 0.750766\n",
      "Train Epoch 3 [ 25600/60000 43%) ] /t Train Loss: 1.359892\n",
      "Train Epoch 3 [ 32000/60000 53%) ] /t Train Loss: 1.155713\n",
      "Train Epoch 3 [ 38400/60000 64%) ] /t Train Loss: 0.878035\n",
      "Train Epoch 3 [ 44800/60000 75%) ] /t Train Loss: 0.798421\n",
      "Train Epoch 3 [ 51200/60000 85%) ] /t Train Loss: 0.624438\n",
      "Train Epoch 3 [ 57600/60000 96%) ] /t Train Loss: 0.622796\n",
      "\\[EPOCH: 3], \t Test Loss : 0.0228, \t Test Accuracy : 78.71 \n",
      "\n",
      "Train Epoch 4 [ 0/60000 0%) ] /t Train Loss: 0.586804\n",
      "Train Epoch 4 [ 6400/60000 11%) ] /t Train Loss: 0.573097\n",
      "Train Epoch 4 [ 12800/60000 21%) ] /t Train Loss: 0.700400\n",
      "Train Epoch 4 [ 19200/60000 32%) ] /t Train Loss: 0.642767\n",
      "Train Epoch 4 [ 25600/60000 43%) ] /t Train Loss: 0.822941\n",
      "Train Epoch 4 [ 32000/60000 53%) ] /t Train Loss: 0.702547\n",
      "Train Epoch 4 [ 38400/60000 64%) ] /t Train Loss: 0.437279\n",
      "Train Epoch 4 [ 44800/60000 75%) ] /t Train Loss: 0.493712\n",
      "Train Epoch 4 [ 51200/60000 85%) ] /t Train Loss: 0.728538\n",
      "Train Epoch 4 [ 57600/60000 96%) ] /t Train Loss: 0.411890\n",
      "\\[EPOCH: 4], \t Test Loss : 0.0172, \t Test Accuracy : 84.04 \n",
      "\n",
      "Train Epoch 5 [ 0/60000 0%) ] /t Train Loss: 0.598163\n",
      "Train Epoch 5 [ 6400/60000 11%) ] /t Train Loss: 0.684422\n",
      "Train Epoch 5 [ 12800/60000 21%) ] /t Train Loss: 0.438852\n",
      "Train Epoch 5 [ 19200/60000 32%) ] /t Train Loss: 1.048084\n",
      "Train Epoch 5 [ 25600/60000 43%) ] /t Train Loss: 0.539835\n",
      "Train Epoch 5 [ 32000/60000 53%) ] /t Train Loss: 0.373891\n",
      "Train Epoch 5 [ 38400/60000 64%) ] /t Train Loss: 0.309591\n",
      "Train Epoch 5 [ 44800/60000 75%) ] /t Train Loss: 0.507809\n",
      "Train Epoch 5 [ 51200/60000 85%) ] /t Train Loss: 0.303976\n",
      "Train Epoch 5 [ 57600/60000 96%) ] /t Train Loss: 0.585328\n",
      "\\[EPOCH: 5], \t Test Loss : 0.0142, \t Test Accuracy : 86.80 \n",
      "\n",
      "Train Epoch 6 [ 0/60000 0%) ] /t Train Loss: 0.567733\n",
      "Train Epoch 6 [ 6400/60000 11%) ] /t Train Loss: 0.468021\n",
      "Train Epoch 6 [ 12800/60000 21%) ] /t Train Loss: 0.544147\n",
      "Train Epoch 6 [ 19200/60000 32%) ] /t Train Loss: 0.430469\n",
      "Train Epoch 6 [ 25600/60000 43%) ] /t Train Loss: 0.410655\n",
      "Train Epoch 6 [ 32000/60000 53%) ] /t Train Loss: 0.402412\n",
      "Train Epoch 6 [ 38400/60000 64%) ] /t Train Loss: 0.408702\n",
      "Train Epoch 6 [ 44800/60000 75%) ] /t Train Loss: 0.368963\n",
      "Train Epoch 6 [ 51200/60000 85%) ] /t Train Loss: 0.421946\n",
      "Train Epoch 6 [ 57600/60000 96%) ] /t Train Loss: 0.384964\n",
      "\\[EPOCH: 6], \t Test Loss : 0.0128, \t Test Accuracy : 88.06 \n",
      "\n",
      "Train Epoch 7 [ 0/60000 0%) ] /t Train Loss: 0.638735\n",
      "Train Epoch 7 [ 6400/60000 11%) ] /t Train Loss: 0.349665\n",
      "Train Epoch 7 [ 12800/60000 21%) ] /t Train Loss: 0.383224\n",
      "Train Epoch 7 [ 19200/60000 32%) ] /t Train Loss: 0.322150\n",
      "Train Epoch 7 [ 25600/60000 43%) ] /t Train Loss: 0.531353\n",
      "Train Epoch 7 [ 32000/60000 53%) ] /t Train Loss: 0.243531\n",
      "Train Epoch 7 [ 38400/60000 64%) ] /t Train Loss: 0.364732\n",
      "Train Epoch 7 [ 44800/60000 75%) ] /t Train Loss: 0.196862\n",
      "Train Epoch 7 [ 51200/60000 85%) ] /t Train Loss: 0.333630\n",
      "Train Epoch 7 [ 57600/60000 96%) ] /t Train Loss: 0.596407\n",
      "\\[EPOCH: 7], \t Test Loss : 0.0119, \t Test Accuracy : 88.80 \n",
      "\n",
      "Train Epoch 8 [ 0/60000 0%) ] /t Train Loss: 0.338404\n",
      "Train Epoch 8 [ 6400/60000 11%) ] /t Train Loss: 0.309574\n",
      "Train Epoch 8 [ 12800/60000 21%) ] /t Train Loss: 0.368056\n",
      "Train Epoch 8 [ 19200/60000 32%) ] /t Train Loss: 0.223339\n",
      "Train Epoch 8 [ 25600/60000 43%) ] /t Train Loss: 0.463949\n",
      "Train Epoch 8 [ 32000/60000 53%) ] /t Train Loss: 0.231496\n",
      "Train Epoch 8 [ 38400/60000 64%) ] /t Train Loss: 0.145519\n",
      "Train Epoch 8 [ 44800/60000 75%) ] /t Train Loss: 0.493626\n",
      "Train Epoch 8 [ 51200/60000 85%) ] /t Train Loss: 0.421755\n",
      "Train Epoch 8 [ 57600/60000 96%) ] /t Train Loss: 0.346790\n",
      "\\[EPOCH: 8], \t Test Loss : 0.0112, \t Test Accuracy : 89.49 \n",
      "\n",
      "Train Epoch 9 [ 0/60000 0%) ] /t Train Loss: 0.398730\n",
      "Train Epoch 9 [ 6400/60000 11%) ] /t Train Loss: 0.435566\n",
      "Train Epoch 9 [ 12800/60000 21%) ] /t Train Loss: 0.397346\n",
      "Train Epoch 9 [ 19200/60000 32%) ] /t Train Loss: 0.553802\n",
      "Train Epoch 9 [ 25600/60000 43%) ] /t Train Loss: 0.239503\n",
      "Train Epoch 9 [ 32000/60000 53%) ] /t Train Loss: 0.406976\n",
      "Train Epoch 9 [ 38400/60000 64%) ] /t Train Loss: 0.311532\n",
      "Train Epoch 9 [ 44800/60000 75%) ] /t Train Loss: 0.728462\n",
      "Train Epoch 9 [ 51200/60000 85%) ] /t Train Loss: 0.273811\n",
      "Train Epoch 9 [ 57600/60000 96%) ] /t Train Loss: 0.548774\n",
      "\\[EPOCH: 9], \t Test Loss : 0.0109, \t Test Accuracy : 89.79 \n",
      "\n",
      "Train Epoch 10 [ 0/60000 0%) ] /t Train Loss: 0.234922\n",
      "Train Epoch 10 [ 6400/60000 11%) ] /t Train Loss: 0.909999\n",
      "Train Epoch 10 [ 12800/60000 21%) ] /t Train Loss: 0.438577\n",
      "Train Epoch 10 [ 19200/60000 32%) ] /t Train Loss: 0.358725\n",
      "Train Epoch 10 [ 25600/60000 43%) ] /t Train Loss: 0.184231\n",
      "Train Epoch 10 [ 32000/60000 53%) ] /t Train Loss: 0.502998\n",
      "Train Epoch 10 [ 38400/60000 64%) ] /t Train Loss: 0.565983\n",
      "Train Epoch 10 [ 44800/60000 75%) ] /t Train Loss: 0.291471\n",
      "Train Epoch 10 [ 51200/60000 85%) ] /t Train Loss: 0.128381\n",
      "Train Epoch 10 [ 57600/60000 96%) ] /t Train Loss: 0.508906\n",
      "\\[EPOCH: 10], \t Test Loss : 0.0104, \t Test Accuracy : 90.38 \n",
      "\n",
      "0:01:53.887734\n"
     ]
    }
   ],
   "source": [
    "start = dt.datetime.now()\n",
    "for ep in range(1, epoch+1):\n",
    "    train(model, train_loader, optimizer, log_interval = 200) \n",
    "    #위에서 train 함수를 통해 설정된 파라미터로 test셋에 적합하여 loss와 accuracy 계산\n",
    "    test_loss, test_accuracy = evaluate(model, test_loader) \n",
    "    \n",
    "    \"\"\"train의 결과를 따로 저장하지 않고도 아래에서 바로 평가하는 것을 볼 때,\n",
    "    model.train()을 통해 학습모델에서 추정된 파라미터를 고정하고,\n",
    "    별도로 할당하는 것 없이 model.test()에 이용하는 듯\"\"\"\n",
    "    \n",
    "    print(f\"\\[EPOCH: {ep}], \\t Test Loss : {test_loss:.4f}, \\t Test Accuracy : {test_accuracy:.2f} \\n\")\n",
    "\n",
    "end = dt.datetime.now()\n",
    "print(end - start)"
   ]
  },
  {
   "cell_type": "markdown",
   "metadata": {},
   "source": [
    "**결과**\n",
    "- CPU 사용\n",
    "- 모델 총 소요시간 : 약 1분 54초\n",
    "- test accuracy : 90.38 %"
   ]
  },
  {
   "cell_type": "markdown",
   "metadata": {},
   "source": [
    "## 배운 것\n",
    "- 신경망 모형을 직접 돌려보고 학습시킨 것은 이번이 처음이라 처음부터 끝까지가 새로운 것이었음.\n",
    "- 역전파 과정을 깊게 생각하지 않고 직관적으로 생각하기 위해 노력함.\n",
    "- 전반적인 모델링 과정은 다른 모형들과 비슷하지만, 이미지 데이터를 학습시켰기에 세부적인 것들이 달랐음.\n",
    "- 이미지 데이터라 데이터 하나하나의 feature가 채널, x, y로 구성되었으며,\n",
    "- 미니배치와 SGD를 이용한 학습을 배웠음.\n",
    "- 인풋과 아웃풋의 정의를 확실히 하고, 배치 사이즈, 옵티마이저, 손실함수의 개념을 확실히 짚고 넘어갈 필요성을 느낌"
   ]
  }
 ],
 "metadata": {
  "kernelspec": {
   "display_name": "Python 3",
   "language": "python",
   "name": "python3"
  },
  "language_info": {
   "codemirror_mode": {
    "name": "ipython",
    "version": 3
   },
   "file_extension": ".py",
   "mimetype": "text/x-python",
   "name": "python",
   "nbconvert_exporter": "python",
   "pygments_lexer": "ipython3",
   "version": "3.8.5"
  }
 },
 "nbformat": 4,
 "nbformat_minor": 4
}
