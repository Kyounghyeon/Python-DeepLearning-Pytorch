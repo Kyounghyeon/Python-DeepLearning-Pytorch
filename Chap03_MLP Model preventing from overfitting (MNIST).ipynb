{
 "cells": [
  {
   "cell_type": "markdown",
   "metadata": {},
   "source": [
    "이 챕터에서는 신경망 모형의 오버피팅을 방지하기 위한 방법들을 다룹니다. 다루는 목록은 아래와 같습니다\n",
    "- Drop Out\n",
    "- Batch Normalization\n",
    "- Activation Function\n",
    "- Initialization\n",
    "- Optimizer"
   ]
  }
 ],
 "metadata": {
  "kernelspec": {
   "display_name": "Python 3",
   "language": "python",
   "name": "python3"
  },
  "language_info": {
   "codemirror_mode": {
    "name": "ipython",
    "version": 3
   },
   "file_extension": ".py",
   "mimetype": "text/x-python",
   "name": "python",
   "nbconvert_exporter": "python",
   "pygments_lexer": "ipython3",
   "version": "3.8.5"
  }
 },
 "nbformat": 4,
 "nbformat_minor": 4
}
