{
  "nbformat": 4,
  "nbformat_minor": 0,
  "metadata": {
    "colab": {
      "name": "Chap05-01_NLP Basic with IMDB",
      "provenance": [],
      "collapsed_sections": [],
      "authorship_tag": "ABX9TyOgpFf3ug0Muvca1w6Rju5b",
      "include_colab_link": true
    },
    "kernelspec": {
      "name": "python3",
      "display_name": "Python 3"
    },
    "language_info": {
      "name": "python"
    },
    "accelerator": "GPU"
  },
  "cells": [
    {
      "cell_type": "markdown",
      "metadata": {
        "id": "view-in-github",
        "colab_type": "text"
      },
      "source": [
        "<a href=\"https://colab.research.google.com/github/Kyounghyeon/Python-DeepLearning-Pytorch/blob/main/Chap05_01_NLP_Basic_with_IMDB.ipynb\" target=\"_parent\"><img src=\"https://colab.research.google.com/assets/colab-badge.svg\" alt=\"Open In Colab\"/></a>"
      ]
    },
    {
      "cell_type": "markdown",
      "metadata": {
        "id": "xqtCcwYxvH3y"
      },
      "source": [
        "# NLP Basic with Pytorch"
      ]
    },
    {
      "cell_type": "markdown",
      "metadata": {
        "id": "47ZzyBbavD5J"
      },
      "source": [
        "## Module import"
      ]
    },
    {
      "cell_type": "code",
      "metadata": {
        "id": "CxwcVE52sXXL"
      },
      "source": [
        "import numpy as np\n",
        "import matplotlib.pyplot as plt\n",
        "\n",
        "import torch, torchtext\n",
        "import torch.nn as nn\n",
        "import torch.nn.functional as F\n",
        "\n",
        "\n",
        "from torchtext.legacy import data # 0.9.0 이후로 torchtext.data -> torchtext.legacy.data 로 변경\n",
        "from torchtext.datasets import IMDB"
      ],
      "execution_count": 3,
      "outputs": []
    },
    {
      "cell_type": "code",
      "metadata": {
        "colab": {
          "base_uri": "https://localhost:8080/"
        },
        "id": "WtQ7PCz4yy1J",
        "outputId": "b64bc892-dc0f-44c0-ccf3-7bd01b683916"
      },
      "source": [
        "print(\"torch\\t\\t\",torch.__version__)\n",
        "print(\"torchtext\\t\",torchtext.__version__)"
      ],
      "execution_count": 4,
      "outputs": [
        {
          "output_type": "stream",
          "name": "stdout",
          "text": [
            "torch\t\t 1.10.0+cu111\n",
            "torchtext\t 0.11.0\n"
          ]
        }
      ]
    },
    {
      "cell_type": "code",
      "metadata": {
        "colab": {
          "base_uri": "https://localhost:8080/"
        },
        "id": "h3FrvmgyvcgY",
        "outputId": "b0d9164b-1b65-4eaa-f8e6-2fbdda1603ba"
      },
      "source": [
        "# Data setting\n",
        "TEXT = data.Field(lower = True, batch_first = True)\n",
        "LABEL = data.Field(sequential = False)\n",
        "\n",
        "# lower : 모든 알파벳을 소문자로\n",
        "# batch_first : 데이터의 shape에서 배치 사이즈를 가장 앞에 >> (batch_size, row, col)\n",
        "# sequential : no tokenization is applied\n",
        "\n",
        "# Data load\n",
        "train = IMDB(root = \"/data/IMDB\", split = \"train\")\n",
        "test = IMDB(root = \"/data/IMDB\", split = \"test\")"
      ],
      "execution_count": 5,
      "outputs": [
        {
          "output_type": "stream",
          "name": "stderr",
          "text": [
            "100%|██████████| 84.1M/84.1M [00:01<00:00, 43.2MB/s]\n"
          ]
        }
      ]
    },
    {
      "cell_type": "code",
      "metadata": {
        "id": "xe39NDfAZrDP"
      },
      "source": [
        ""
      ],
      "execution_count": null,
      "outputs": []
    }
  ]
}