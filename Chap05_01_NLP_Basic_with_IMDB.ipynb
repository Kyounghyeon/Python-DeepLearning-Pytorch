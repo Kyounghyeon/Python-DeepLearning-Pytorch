{
  "nbformat": 4,
  "nbformat_minor": 0,
  "metadata": {
    "colab": {
      "name": "Chap05-01_NLP Basic with IMDB",
      "provenance": [],
      "collapsed_sections": [],
      "authorship_tag": "ABX9TyPDzvWGsRV9p3SjS21yAGPH",
      "include_colab_link": true
    },
    "kernelspec": {
      "name": "python3",
      "display_name": "Python 3"
    },
    "language_info": {
      "name": "python"
    }
  },
  "cells": [
    {
      "cell_type": "markdown",
      "metadata": {
        "id": "view-in-github",
        "colab_type": "text"
      },
      "source": [
        "<a href=\"https://colab.research.google.com/github/Kyounghyeon/Python-DeepLearning-Pytorch/blob/main/Chap05_01_NLP_Basic_with_IMDB.ipynb\" target=\"_parent\"><img src=\"https://colab.research.google.com/assets/colab-badge.svg\" alt=\"Open In Colab\"/></a>"
      ]
    },
    {
      "cell_type": "markdown",
      "metadata": {
        "id": "xqtCcwYxvH3y"
      },
      "source": [
        "# NLP Basic with Pytorch"
      ]
    },
    {
      "cell_type": "code",
      "metadata": {
        "colab": {
          "base_uri": "https://localhost:8080/"
        },
        "id": "OlMXoU87sFcK",
        "outputId": "5d38d7b6-5f15-498a-e90b-7b20fce966f9"
      },
      "source": [
        "from google.colab import drive\n",
        "drive.mount('../content/MyDrive')"
      ],
      "execution_count": 2,
      "outputs": [
        {
          "output_type": "stream",
          "text": [
            "Mounted at ../content/MyDrive\n"
          ],
          "name": "stdout"
        }
      ]
    },
    {
      "cell_type": "markdown",
      "metadata": {
        "id": "47ZzyBbavD5J"
      },
      "source": [
        "## Module import"
      ]
    },
    {
      "cell_type": "code",
      "metadata": {
        "id": "CxwcVE52sXXL"
      },
      "source": [
        "import numpy as np\n",
        "import matplotlib.pyplot as plt\n",
        "\n",
        "import torch\n",
        "import torch.nn as nn\n",
        "import torch.nn.functional as F\n",
        "\n",
        "from torchtext.legacy import data # 0.9.0 이후로 torchtext.data -> torchtext.legacy.data 로 변경\n",
        "from torchtext.datasets import IMDB"
      ],
      "execution_count": 25,
      "outputs": []
    },
    {
      "cell_type": "code",
      "metadata": {
        "colab": {
          "base_uri": "https://localhost:8080/"
        },
        "id": "WtQ7PCz4yy1J",
        "outputId": "01ef11e2-43e8-4ae8-e0ab-a3e199ae5f77"
      },
      "source": [
        "print(\"torch\\t\\t\",torch.__version__)\n",
        "print(\"torchtext\\t\",torchtext.__version__)"
      ],
      "execution_count": 19,
      "outputs": [
        {
          "output_type": "stream",
          "text": [
            "torch\t\t 1.9.0+cu102\n",
            "torchtext\t 0.10.0\n"
          ],
          "name": "stdout"
        }
      ]
    },
    {
      "cell_type": "code",
      "metadata": {
        "colab": {
          "base_uri": "https://localhost:8080/"
        },
        "id": "h3FrvmgyvcgY",
        "outputId": "dfbbc4b5-874d-4eca-b33d-7c793493ae28"
      },
      "source": [
        "# Data setting\n",
        "TEXT = data.Field(lower = True, batch_first = True)\n",
        "LABEL = data.Field(sequential = False)\n",
        "\n",
        "# lower : 모든 알파벳을 소문자로\n",
        "# batch_first : 데이터의 shape에서 배치 사이즈를 가장 앞에 >> (batch_size, row, col)\n",
        "# sequential : no tokenization is applied\n",
        "\n",
        "# Data load\n",
        "train = IMDB(root = \"../data/IMDB\", split = \"train\")\n",
        "test = IMDB(root = \"../data/IMDB\", split = \"test\")"
      ],
      "execution_count": 28,
      "outputs": [
        {
          "output_type": "stream",
          "text": [
            "aclImdb_v1.tar.gz: 100%|██████████| 84.1M/84.1M [00:01<00:00, 42.5MB/s]\n"
          ],
          "name": "stderr"
        }
      ]
    }
  ]
}